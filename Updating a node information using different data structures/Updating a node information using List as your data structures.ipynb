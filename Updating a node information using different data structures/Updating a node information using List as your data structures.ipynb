{
  "metadata": {
    "kernelspec": {
      "name": "python",
      "display_name": "Python (Pyodide)",
      "language": "python"
    },
    "language_info": {
      "codemirror_mode": {
        "name": "python",
        "version": 3
      },
      "file_extension": ".py",
      "mimetype": "text/x-python",
      "name": "python",
      "nbconvert_exporter": "python",
      "pygments_lexer": "ipython3",
      "version": "3.8"
    }
  },
  "nbformat_minor": 5,
  "nbformat": 4,
  "cells": [
    {
      "id": "766bc865-8def-4101-978d-6b716651fd02",
      "cell_type": "code",
      "source": "# Updating a node in a list \n\nmy_list=[]\nmy_list.append([(10,3),1,6,7])\nmy_list.append([(15,5),2,3,4])\nprint(my_list)\nfor each_element in my_list:\n    if each_element[0]==(15,5):\n       each_element[1]=2\n       each_element[2]=5    \nprint(my_list)",
      "metadata": {
        "trusted": true
      },
      "outputs": [
        {
          "name": "stdout",
          "output_type": "stream",
          "text": "[[(10, 3), 1, 6, 7], [(15, 5), 2, 3, 4]]\n[[(10, 3), 1, 6, 7], [(15, 5), 2, 5, 4]]\n{(10, 3): (1, 6, 7), (15, 5): (2, 3, 4)}\n{(10, 3): (1, 6, 7), (15, 5): (2, 5, 4)}\n[(23, 3, 0, (7, 1)), (43, 2, 0, (4, 5)), (34, 1, 0, (2, 3))]\n[(20, 1, 0, (4, 5)), (23, 3, 0, (7, 1)), (34, 1, 0, (2, 3))]\n[(23, 3, 0, (7, 1)), (22, 1, 0, (4, 5)), (34, 1, 0, (2, 3))]\n"
        }
      ],
      "execution_count": 1
    },
    {
      "id": "9477fe64-2edb-48ba-93b9-0cdbd2beabf4",
      "cell_type": "code",
      "source": "",
      "metadata": {},
      "outputs": [],
      "execution_count": null
    }
  ]
}