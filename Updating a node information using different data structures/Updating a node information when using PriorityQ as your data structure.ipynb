{
  "metadata": {
    "kernelspec": {
      "name": "python",
      "display_name": "Python (Pyodide)",
      "language": "python"
    },
    "language_info": {
      "codemirror_mode": {
        "name": "python",
        "version": 3
      },
      "file_extension": ".py",
      "mimetype": "text/x-python",
      "name": "python",
      "nbconvert_exporter": "python",
      "pygments_lexer": "ipython3",
      "version": "3.8"
    }
  },
  "nbformat_minor": 5,
  "nbformat": 4,
  "cells": [
    {
      "id": "2ce8991a-137e-4b3f-8b00-383e3c2c1f69",
      "cell_type": "code",
      "source": "from queue import PriorityQueue\n\n# Creating tuples with (cost, index, parent node index, (x, y))\nd1 = (34, 1, 0, (2, 3))\nd2 = (43, 2, 0, (4, 5))\nd3 = (23, 3, 0, (7, 1))\n\n# Initialize the PriorityQueue and push elements\nMy_pq = PriorityQueue()\nMy_pq.put(d1)\nMy_pq.put(d2)\nMy_pq.put(d3)\n\nprint(\"Initial PQ:\")\nprint(list(My_pq.queue))\n\n# Remove all elements, update as needed, and store them temporarily\ntemp = []\nwhile not My_pq.empty():\n    item = My_pq.get()\n    # Update the element if its coordinate matches (4,5)\n    if item[3] == (4, 5):\n        item = (22, 1, 0, (4, 5))\n    temp.append(item)\n\n# Create a new PriorityQueue and push the updated elements back in\nupdated_pq = PriorityQueue()\nfor item in temp:\n    updated_pq.put(item)\n\nprint(\"Updated PQ:\")\nprint(list(updated_pq.queue))",
      "metadata": {
        "trusted": true
      },
      "outputs": [],
      "execution_count": null
    },
    {
      "id": "83da8449-6c67-4349-b79e-4b73386e1d88",
      "cell_type": "code",
      "source": "",
      "metadata": {
        "trusted": true
      },
      "outputs": [],
      "execution_count": null
    }
  ]
}