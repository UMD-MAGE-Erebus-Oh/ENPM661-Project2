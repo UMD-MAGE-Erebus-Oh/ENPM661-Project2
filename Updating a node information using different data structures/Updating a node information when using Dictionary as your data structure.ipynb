{
  "metadata": {
    "kernelspec": {
      "name": "python",
      "display_name": "Python (Pyodide)",
      "language": "python"
    },
    "language_info": {
      "codemirror_mode": {
        "name": "python",
        "version": 3
      },
      "file_extension": ".py",
      "mimetype": "text/x-python",
      "name": "python",
      "nbconvert_exporter": "python",
      "pygments_lexer": "ipython3",
      "version": "3.8"
    }
  },
  "nbformat_minor": 5,
  "nbformat": 4,
  "cells": [
    {
      "id": "766bc865-8def-4101-978d-6b716651fd02",
      "cell_type": "code",
      "source": "\n\n# Updating a node in a dictionary\nmy_dictionary={}\nmy_dictionary[(10,3)]=(1,6,7)\nmy_dictionary[(15,5)]=(2,3,4)\nprint(\"Intial dictionary:\")\nprint(my_dictionary)\nmy_dictionary[(15,5)]=(2,5,4)\nprint(\"Updated dictionary:\")\nprint(my_dictionary)",
      "metadata": {
        "trusted": true
      },
      "outputs": [],
      "execution_count": null
    },
    {
      "id": "f76a42ec-abfb-4db3-8cc6-c8c51efa2269",
      "cell_type": "code",
      "source": "",
      "metadata": {
        "trusted": true
      },
      "outputs": [],
      "execution_count": null
    },
    {
      "id": "cc5e026f-63bc-4db2-aeda-81d8571230a4",
      "cell_type": "code",
      "source": "",
      "metadata": {
        "trusted": true
      },
      "outputs": [],
      "execution_count": null
    },
    {
      "id": "8f22f928-a950-46f6-9c31-72819a770633",
      "cell_type": "code",
      "source": "",
      "metadata": {
        "trusted": true
      },
      "outputs": [],
      "execution_count": null
    }
  ]
}