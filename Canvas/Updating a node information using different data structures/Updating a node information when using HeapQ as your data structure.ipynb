{
  "metadata": {
    "kernelspec": {
      "name": "python",
      "display_name": "Python (Pyodide)",
      "language": "python"
    },
    "language_info": {
      "codemirror_mode": {
        "name": "python",
        "version": 3
      },
      "file_extension": ".py",
      "mimetype": "text/x-python",
      "name": "python",
      "nbconvert_exporter": "python",
      "pygments_lexer": "ipython3",
      "version": "3.8"
    }
  },
  "nbformat_minor": 5,
  "nbformat": 4,
  "cells": [
    {
      "id": "766bc865-8def-4101-978d-6b716651fd02",
      "cell_type": "code",
      "source": "# Updating a node in a heapq \nimport heapq as hq\n# creating tuple with cost to come, node index, parent node index=0 and coordinate values (x,y) \n\nd1 = (34, 1, 0, (2,3))  \nd2 = (43, 2, 0, (4,5))\nd3 = (23, 3, 0, (7,1))\n\n#Initialising the list to be used in priority queue\nMy_hq= []\n\n#Push elements to queue\nhq.heappush(My_hq, d1)\nhq.heappush(My_hq, d2)\nhq.heappush(My_hq, d3)\nprint(\"Initial My_hq:\")\nprint(My_hq)\n\nfor i in range(len(My_hq)):\n    if My_hq[i][3]==(4,5):\n        My_hq[i]=(20, 1, 0, (4,5))\n   \nhq.heapify(My_hq)\nprint(\"Updated My_hq:\")\nprint(My_hq)",
      "metadata": {
        "trusted": true
      },
      "outputs": [
        {
          "name": "stdout",
          "output_type": "stream",
          "text": "Initial My_hq:\n[(23, 3, 0, (7, 1)), (43, 2, 0, (4, 5)), (34, 1, 0, (2, 3))]\nUpdated My_hq:\n[(20, 1, 0, (4, 5)), (23, 3, 0, (7, 1)), (34, 1, 0, (2, 3))]\n"
        }
      ],
      "execution_count": 1
    },
    {
      "id": "003ff1e1-acf9-464e-b637-e7192e62d7c5",
      "cell_type": "code",
      "source": "",
      "metadata": {
        "trusted": true
      },
      "outputs": [],
      "execution_count": null
    }
  ]
}