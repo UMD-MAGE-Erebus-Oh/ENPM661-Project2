{
  "metadata": {
    "kernelspec": {
      "name": "python",
      "display_name": "Python (Pyodide)",
      "language": "python"
    },
    "language_info": {
      "codemirror_mode": {
        "name": "python",
        "version": 3
      },
      "file_extension": ".py",
      "mimetype": "text/x-python",
      "name": "python",
      "nbconvert_exporter": "python",
      "pygments_lexer": "ipython3",
      "version": "3.8"
    }
  },
  "nbformat_minor": 5,
  "nbformat": 4,
  "cells": [
    {
      "id": "766bc865-8def-4101-978d-6b716651fd02",
      "cell_type": "code",
      "source": "#Removing and Returning an Element:\n#The PriorityQueue uses the get() method.\n#Example:\n\nfrom queue import PriorityQueue\n\npq = PriorityQueue()\npq.put( (10, 'low priority') )\npq.put( (1, 'high priority') )\npq.put( (5, 'medium priority') )\n\n# get() removes and returns the smallest element (by priority)\nitem = pq.get()\nprint(item)  # Output: (1, 'high priority')\n\n\n# Note: Unlike some C++ implementations where pop() might not return the element, in Python the get() method both removes and returns the item.\n\n",
      "metadata": {
        "trusted": true
      },
      "outputs": [],
      "execution_count": null
    }
  ]
}