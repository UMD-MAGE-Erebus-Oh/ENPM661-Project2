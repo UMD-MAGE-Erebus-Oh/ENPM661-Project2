{
 "cells": [
  {
   "cell_type": "code",
   "execution_count": null,
   "metadata": {},
   "outputs": [
    {
     "name": "stderr",
     "output_type": "stream",
     "text": [
      "Generating Map: 100%|██████████| 180/180 [00:00<00:00, 216.45it/s]"
     ]
    },
    {
     "name": "stdout",
     "output_type": "stream",
     "text": [
      "Saved map as map.png\n",
      "indexing: 49, 0\n"
     ]
    },
    {
     "name": "stderr",
     "output_type": "stream",
     "text": [
      "\n"
     ]
    },
    {
     "data": {
      "text/plain": [
       "array([0., 0., 0., 1.], dtype=float32)"
      ]
     },
     "execution_count": 1,
     "metadata": {},
     "output_type": "execute_result"
    }
   ],
   "source": [
    "import matplotlib.pyplot as plt\n",
    "# from matplotlib.path import Path\n",
    "# https://matplotlib.org/stable/api/path_api.html\n",
    "# from matplotlib.patches import PathPatch\n",
    "\n",
    "import numpy as np\n",
    "\n",
    "from shapely.geometry import Point\n",
    "from shapely.geometry.polygon import Polygon\n",
    "from shapely.geometry import LinearRing\n",
    "import shapely\n",
    "from shapely import affinity\n",
    "\n",
    "from BFS_erebus_oh import Obstacle, Project2Map\n",
    "\n",
    "import math\n",
    "\n",
    "from tqdm import tqdm\n",
    "\n",
    "map = Project2Map()\n",
    "\n",
    "# o = Obstacle(xs, ys, clearance=2)\n",
    "# o = LinearRing(pts)\n",
    "\n",
    "# print(o.is_closed)\n",
    "\n",
    "# test = [20, 18.5]\n",
    "test = [30, 10]\n",
    "# ax.fill(*o.xy)\n",
    "\n",
    "# ax.plot(test[0], test[1], marker='o', color='pink')\n",
    "\n",
    "# o.draw(ax)\n",
    "\n",
    "# letter_e.draw(ax, color='blue')\n",
    "\n",
    "# # ax.fill(*letter_e.plot_points(), facecolor='blue')\n",
    "\n",
    "# ax.plot(test[0], test[1], marker='o', color='pink')\n",
    "\n",
    "# letter_e.collides(test)\n",
    "# p = Point(test)\n",
    "\n",
    "\n",
    "# whether points is +/- 2 mm from boundary\n",
    "# print(o.dwithin(p, 2))\n",
    "# # whether point is inside\n",
    "# ßprint(Polygon(o).contains(p))\n",
    "\n",
    "map.map(0, 0)"
   ]
  },
  {
   "cell_type": "code",
   "execution_count": 2,
   "metadata": {},
   "outputs": [
    {
     "name": "stdout",
     "output_type": "stream",
     "text": [
      "indexing: 0, 179\n"
     ]
    },
    {
     "data": {
      "text/plain": [
       "array([0., 0., 0., 1.], dtype=float32)"
      ]
     },
     "execution_count": 2,
     "metadata": {},
     "output_type": "execute_result"
    }
   ],
   "source": [
    "map.map(179, 49)"
   ]
  },
  {
   "cell_type": "code",
   "execution_count": 4,
   "metadata": {},
   "outputs": [
    {
     "data": {
      "text/plain": [
       "array([0., 0., 0., 1.], dtype=float32)"
      ]
     },
     "execution_count": 4,
     "metadata": {},
     "output_type": "execute_result"
    }
   ],
   "source": [
    "image[0,0]"
   ]
  }
 ],
 "metadata": {
  "kernelspec": {
   "display_name": "pj2",
   "language": "python",
   "name": "python3"
  },
  "language_info": {
   "codemirror_mode": {
    "name": "ipython",
    "version": 3
   },
   "file_extension": ".py",
   "mimetype": "text/x-python",
   "name": "python",
   "nbconvert_exporter": "python",
   "pygments_lexer": "ipython3",
   "version": "3.13.2"
  }
 },
 "nbformat": 4,
 "nbformat_minor": 2
}
