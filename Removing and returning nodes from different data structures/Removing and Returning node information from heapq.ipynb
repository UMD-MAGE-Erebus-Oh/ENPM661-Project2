{
  "metadata": {
    "kernelspec": {
      "name": "python",
      "display_name": "Python (Pyodide)",
      "language": "python"
    },
    "language_info": {
      "codemirror_mode": {
        "name": "python",
        "version": 3
      },
      "file_extension": ".py",
      "mimetype": "text/x-python",
      "name": "python",
      "nbconvert_exporter": "python",
      "pygments_lexer": "ipython3",
      "version": "3.8"
    }
  },
  "nbformat_minor": 5,
  "nbformat": 4,
  "cells": [
    {
      "id": "766bc865-8def-4101-978d-6b716651fd02",
      "cell_type": "code",
      "source": "#Removing and Returning an Element from a heapq:\n#Example:\n\nimport heapq\n\n# Create an empty heap (list)\nheap = []\n\n# Push elements onto the heap (heapq uses a min-heap by default)\nheapq.heappush(heap, (10, 'low priority'))\nheapq.heappush(heap, (1, 'high priority'))\nheapq.heappush(heap, (5, 'medium priority'))\n\n# heappop() removes and returns the smallest element (by priority)\nitem = heapq.heappop(heap)\nprint(item)  # Output: (1, 'high priority')\n\n",
      "metadata": {
        "trusted": true
      },
      "outputs": [],
      "execution_count": null
    }
  ]
}