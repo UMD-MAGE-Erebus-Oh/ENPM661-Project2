{
  "metadata": {
    "kernelspec": {
      "name": "python",
      "display_name": "Python (Pyodide)",
      "language": "python"
    },
    "language_info": {
      "codemirror_mode": {
        "name": "python",
        "version": 3
      },
      "file_extension": ".py",
      "mimetype": "text/x-python",
      "name": "python",
      "nbconvert_exporter": "python",
      "pygments_lexer": "ipython3",
      "version": "3.8"
    }
  },
  "nbformat_minor": 5,
  "nbformat": 4,
  "cells": [
    {
      "id": "766bc865-8def-4101-978d-6b716651fd02",
      "cell_type": "code",
      "source": "# Removing and Returning an Element:\n# Use the pop() method.\n#Example (pop by index):\n\nmy_list = [10, 20, 30, 40]\nitem = my_list.pop(1)  # Removes and returns the element at index 1 (20)\nprint(item)    # Output: 20\nprint(my_list) # Output: [10, 30, 40]\n\n# Example (pop last element):\nlast_item = my_list.pop()  # Removes and returns the last element\n\n# Note: If you only want to remove an element without returning it, you can use the del statement:\ndel my_list[0]\n",
      "metadata": {
        "trusted": true
      },
      "outputs": [],
      "execution_count": null
    }
  ]
}