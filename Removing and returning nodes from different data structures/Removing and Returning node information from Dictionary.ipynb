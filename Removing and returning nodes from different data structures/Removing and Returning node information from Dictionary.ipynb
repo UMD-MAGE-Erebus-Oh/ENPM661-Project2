{
  "metadata": {
    "kernelspec": {
      "name": "python",
      "display_name": "Python (Pyodide)",
      "language": "python"
    },
    "language_info": {
      "codemirror_mode": {
        "name": "python",
        "version": 3
      },
      "file_extension": ".py",
      "mimetype": "text/x-python",
      "name": "python",
      "nbconvert_exporter": "python",
      "pygments_lexer": "ipython3",
      "version": "3.8"
    }
  },
  "nbformat_minor": 5,
  "nbformat": 4,
  "cells": [
    {
      "id": "766bc865-8def-4101-978d-6b716651fd02",
      "cell_type": "code",
      "source": "# For Removing and Returning a Value by Key:\n#Use the pop(key[, default]) method.\nmy_dict = {'a': 1, 'b': 2, 'c': 3}\nvalue = my_dict.pop('b')  # Removes key 'b' and returns its value (2)\nprint(value)     # Output: 2\nprint(my_dict)   # Output: {'a': 1, 'c': 3}\n\n#For Removing and Returning an Arbitrary (or Last) Item:\n# Use the popitem() method.\n# Example (since Python 3.7, dictionaries maintain insertion order):\n\nkey, value = my_dict.popitem()\nprint(key, value)  # Removes and returns the last inserted key-value pair\n\n",
      "metadata": {
        "trusted": true
      },
      "outputs": [],
      "execution_count": null
    }
  ]
}